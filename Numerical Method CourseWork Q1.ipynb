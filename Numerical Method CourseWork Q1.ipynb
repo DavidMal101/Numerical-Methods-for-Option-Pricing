{
 "cells": [
  {
   "cell_type": "code",
   "execution_count": 47,
   "id": "377cb9c1",
   "metadata": {},
   "outputs": [],
   "source": [
    "import numpy as np\n",
    "import matplotlib.pyplot as plt\n",
    "import pandas as pd\n",
    "import scipy.stats as stats\n",
    "import time"
   ]
  },
  {
   "cell_type": "markdown",
   "id": "7d7bcb9b",
   "metadata": {},
   "source": [
    "# Q1 (a)\n",
    "## European option pricing"
   ]
  },
  {
   "cell_type": "code",
   "execution_count": 48,
   "id": "c1b63f2e",
   "metadata": {},
   "outputs": [],
   "source": [
    "\n",
    "def TrinomialTree(s0,sigma,lmda,r,N,payoff,T,K):\n",
    "    #Create an empty array to store the stock price at each node\n",
    "    #note since u=1/d this is a recombining tree\n",
    "    delta_t=T/N\n",
    "    \n",
    "    #set up parameters\n",
    "    u=np.exp(lmda*sigma*np.sqrt(delta_t))\n",
    "    d=1/u\n",
    "    qu=1/(2*lmda**2)+((r-sigma**2/2)*np.sqrt(delta_t))/(2*lmda*sigma)\n",
    "    qm=1-1/lmda**2\n",
    "    qd=1/(2*lmda**2)-((r-sigma**2/2)*np.sqrt(delta_t))/(2*lmda*sigma)\n",
    "    \n",
    "    \n",
    "    S=np.zeros((2*N+1,N+1))\n",
    "    V=np.zeros((2*N+1,N+1))\n",
    "\n",
    "    #set up S[k,n]=s0*u^(n-k) = s0*u^n*d^k for 0<=k<=2n\n",
    "    for t in range(N+1):\n",
    "        S[0:2*t+1,t]=(s0*u**t)*(d**(np.arange(0,2*t+1)))\n",
    "\n",
    "    #apply payoff\n",
    "    V[:,N]=payoff(S[:,N],K)\n",
    "    \n",
    "    #Loop backwards in time\n",
    "    for t in reversed(range(N)):\n",
    "        V[0:2*t+1,t]=(qu*V[0:2*t+1,t+1]+qm*V[1:2*t+2,t+1]+qd*V[2:2*t+3,t+1])*np.exp(-r*delta_t)\n",
    "        \n",
    "    return V, S #return tree of both stock and asset price\n"
   ]
  },
  {
   "cell_type": "code",
   "execution_count": 49,
   "id": "9d470d1f",
   "metadata": {},
   "outputs": [],
   "source": [
    "N=200\n",
    "s0=100\n",
    "K=100\n",
    "sigma=0.2\n",
    "T=1\n",
    "r=0.01\n",
    "g=lambda x,k:np.maximum(x-k,0)\n",
    "lmda_vec=[1,1.25,1.5,1.75]\n",
    "\n",
    "option_price_df=pd.DataFrame(np.zeros((N,4)))\n",
    "option_price=np.zeros(N)\n",
    "for i,lmda in enumerate(lmda_vec):\n",
    "    for n in range(1,N+1):\n",
    "        v=TrinomialTree(s0,sigma,lmda,r,n,g,T,K)[0]\n",
    "        option_price[n-1]=v[0,0]\n",
    "    option_price_df[i]=option_price\n",
    "    \n",
    "option_price_df.columns=[\"Lambda=%.2f\"%f for f in lmda_vec]\n",
    "option_price_df.index=np.arange(1,201,1)"
   ]
  },
  {
   "cell_type": "code",
   "execution_count": 50,
   "id": "70808485",
   "metadata": {},
   "outputs": [
    {
     "data": {
      "text/html": [
       "<div>\n",
       "<style scoped>\n",
       "    .dataframe tbody tr th:only-of-type {\n",
       "        vertical-align: middle;\n",
       "    }\n",
       "\n",
       "    .dataframe tbody tr th {\n",
       "        vertical-align: top;\n",
       "    }\n",
       "\n",
       "    .dataframe thead th {\n",
       "        text-align: right;\n",
       "    }\n",
       "</style>\n",
       "<table border=\"1\" class=\"dataframe\">\n",
       "  <thead>\n",
       "    <tr style=\"text-align: right;\">\n",
       "      <th></th>\n",
       "      <th>Lambda=1.00</th>\n",
       "      <th>Lambda=1.25</th>\n",
       "      <th>Lambda=1.50</th>\n",
       "      <th>Lambda=1.75</th>\n",
       "    </tr>\n",
       "  </thead>\n",
       "  <tbody>\n",
       "    <tr>\n",
       "      <th>1</th>\n",
       "      <td>10.411989</td>\n",
       "      <td>8.435979</td>\n",
       "      <td>7.119985</td>\n",
       "      <td>6.181130</td>\n",
       "    </tr>\n",
       "    <tr>\n",
       "      <th>2</th>\n",
       "      <td>7.529081</td>\n",
       "      <td>8.143974</td>\n",
       "      <td>7.787382</td>\n",
       "      <td>7.222898</td>\n",
       "    </tr>\n",
       "    <tr>\n",
       "      <th>3</th>\n",
       "      <td>9.101786</td>\n",
       "      <td>8.277451</td>\n",
       "      <td>8.009994</td>\n",
       "      <td>7.651916</td>\n",
       "    </tr>\n",
       "    <tr>\n",
       "      <th>4</th>\n",
       "      <td>7.956374</td>\n",
       "      <td>8.301345</td>\n",
       "      <td>8.118027</td>\n",
       "      <td>7.867494</td>\n",
       "    </tr>\n",
       "    <tr>\n",
       "      <th>5</th>\n",
       "      <td>8.832133</td>\n",
       "      <td>8.328068</td>\n",
       "      <td>8.181904</td>\n",
       "      <td>7.991876</td>\n",
       "    </tr>\n",
       "    <tr>\n",
       "      <th>...</th>\n",
       "      <td>...</td>\n",
       "      <td>...</td>\n",
       "      <td>...</td>\n",
       "      <td>...</td>\n",
       "    </tr>\n",
       "    <tr>\n",
       "      <th>196</th>\n",
       "      <td>8.423189</td>\n",
       "      <td>8.430423</td>\n",
       "      <td>8.426960</td>\n",
       "      <td>8.422862</td>\n",
       "    </tr>\n",
       "    <tr>\n",
       "      <th>197</th>\n",
       "      <td>8.443264</td>\n",
       "      <td>8.430437</td>\n",
       "      <td>8.426993</td>\n",
       "      <td>8.422916</td>\n",
       "    </tr>\n",
       "    <tr>\n",
       "      <th>198</th>\n",
       "      <td>8.423291</td>\n",
       "      <td>8.430452</td>\n",
       "      <td>8.427025</td>\n",
       "      <td>8.422968</td>\n",
       "    </tr>\n",
       "    <tr>\n",
       "      <th>199</th>\n",
       "      <td>8.443164</td>\n",
       "      <td>8.430466</td>\n",
       "      <td>8.427056</td>\n",
       "      <td>8.423020</td>\n",
       "    </tr>\n",
       "    <tr>\n",
       "      <th>200</th>\n",
       "      <td>8.423391</td>\n",
       "      <td>8.430480</td>\n",
       "      <td>8.427087</td>\n",
       "      <td>8.423072</td>\n",
       "    </tr>\n",
       "  </tbody>\n",
       "</table>\n",
       "<p>200 rows × 4 columns</p>\n",
       "</div>"
      ],
      "text/plain": [
       "     Lambda=1.00  Lambda=1.25  Lambda=1.50  Lambda=1.75\n",
       "1      10.411989     8.435979     7.119985     6.181130\n",
       "2       7.529081     8.143974     7.787382     7.222898\n",
       "3       9.101786     8.277451     8.009994     7.651916\n",
       "4       7.956374     8.301345     8.118027     7.867494\n",
       "5       8.832133     8.328068     8.181904     7.991876\n",
       "..           ...          ...          ...          ...\n",
       "196     8.423189     8.430423     8.426960     8.422862\n",
       "197     8.443264     8.430437     8.426993     8.422916\n",
       "198     8.423291     8.430452     8.427025     8.422968\n",
       "199     8.443164     8.430466     8.427056     8.423020\n",
       "200     8.423391     8.430480     8.427087     8.423072\n",
       "\n",
       "[200 rows x 4 columns]"
      ]
     },
     "execution_count": 50,
     "metadata": {},
     "output_type": "execute_result"
    }
   ],
   "source": [
    "option_price_df"
   ]
  },
  {
   "cell_type": "code",
   "execution_count": 51,
   "id": "8b886acb",
   "metadata": {},
   "outputs": [],
   "source": [
    "#Exact Black Scholes price\n",
    "\n",
    "def CallBlackScholes(s,r,sigma,t,k):\n",
    "    d1=(np.log(s/k)+(r+sigma**2/2)*t)/(sigma*np.sqrt(t))\n",
    "    d2=d1-np.sqrt(t)*sigma\n",
    "    \n",
    "    return s*stats.norm.cdf(d1)-k*np.exp(-r*t)*stats.norm.cdf(d2)"
   ]
  },
  {
   "cell_type": "code",
   "execution_count": 52,
   "id": "bfc806a9",
   "metadata": {},
   "outputs": [
    {
     "data": {
      "text/plain": [
       "Text(0.5, 1.0, 'Plot of European Call Option Prices using trinomial model')"
      ]
     },
     "execution_count": 52,
     "metadata": {},
     "output_type": "execute_result"
    },
    {
     "data": {
      "text/plain": [
       "<Figure size 432x288 with 0 Axes>"
      ]
     },
     "metadata": {},
     "output_type": "display_data"
    },
    {
     "data": {
      "image/png": "[encoded data removed]",
      "text/plain": [
       "<Figure size 576x576 with 1 Axes>"
      ]
     },
     "metadata": {
      "needs_background": "light"
     },
     "output_type": "display_data"
    }
   ],
   "source": [
    "plt.figure()\n",
    "plt.rcParams.update({'font.size':20})\n",
    "\n",
    "ax=option_price_df.plot(figsize=(8,8),ylabel=\"Price\",xlabel=\"Number of periods, N\")\n",
    "\n",
    "ax.axhline(CallBlackScholes(s0,r,sigma,T,K),label=\"BlackScholes\",color=\"black\",lw=2)\n",
    "ax.legend(fontsize=18)\n",
    "ax.set_title(\"Plot of European Call Option Prices using trinomial model\")"
   ]
  },
  {
   "cell_type": "markdown",
   "id": "b9c7c20a",
   "metadata": {},
   "source": [
    "From the plot it is clear that for any choice of $\\lambda$ when the number of periods N is small (less than 10), the estimated call price will differ significantly from the theoretical Black Scholes price. Similarly for each choice of $\\lambda$ as N increases we see that the price generated by the trinomial tree converges to that of the Black Scholes framework. This result is expected as the black scholes model works in continuous time, where as the trinomial tree discretises the call option price at fixed time points. So naturally as we make our lattice finer and finer we have a better approximation of a continuous time process.\n",
    "\n",
    "Choosing $\\lambda=1$, we observe that the trinomial model price oscillates above and below the Black Scholes price before converging. In the case of $\\lambda=1$ it should be noted that the trinomial model reduces to the binomial model, as the probability of the \"middle\" movement becomes 0.\n",
    "\n",
    "For the other choice of $\\lambda$ it appears as if they initially underestimate the price and then also converge quickly, however they do not oscillate.\n",
    "\n",
    "This difference may arise from the fact that when the model reduces to the binomial case the process is only allowed to move up or down by a proportional amount. By allowing the asset price to not move at all it provides a better approximation for extremely small movements in the continuous time case. This is particualrly the case when we only use a small number of periods as we see here. Alongside this, since the Black Scholes model essentially assumes a positive drift for the asset price when $r=0.01$ then we would expect the asset price, and so to the call price, to show only a slight upward trend over time, as such negligible movements will be common. \n",
    "\n",
    "In the trinomial model we have 2 cases in which the asset moves down or not at all. In these cases we could essentially be underestimating the price. This might be the reason all the estimates for $\\lambda>1$ converge from below. In the binomial case there is only 1 case of this potential underestimation, when the asset moves down, this is likely the reason we observe oscillations for $\\lambda=1$. Again this is only really significant when we have to approximate a large time frame with a small number of periods, and the asset can only move a small number of times."
   ]
  },
  {
   "cell_type": "markdown",
   "id": "eb77e8a2",
   "metadata": {},
   "source": [
    "$\\lambda=1.25$ and $\\lambda=1.5$ seem to converge the fastets in this case."
   ]
  },
  {
   "cell_type": "markdown",
   "id": "1c6bc39e",
   "metadata": {},
   "source": [
    "Varying $S_0$..."
   ]
  },
  {
   "cell_type": "code",
   "execution_count": 60,
   "id": "77e20c90",
   "metadata": {
    "scrolled": false
   },
   "outputs": [
    {
     "data": {
      "application/vnd.jupyter.widget-view+json": {
       "model_id": "46326aa80a234766aab02b507dfa2d8e",
       "version_major": 2,
       "version_minor": 0
      },
      "text/plain": [
       "interactive(children=(IntSlider(value=110, description='s0', max=180, min=50, step=10), Output()), _dom_classe…"
      ]
     },
     "metadata": {},
     "output_type": "display_data"
    }
   ],
   "source": [
    "from ipywidgets import interact\n",
    "@interact(s0=(50,180,10))\n",
    "def call_plots(s0=110):\n",
    "    N=150\n",
    "    K=100\n",
    "    sigma=0.2\n",
    "    T=1\n",
    "    r=0.01\n",
    "    g=lambda x,k:np.maximum(x-k,0)\n",
    "    lmda_vec=[1,1.25,1.5,1.75]\n",
    "\n",
    "    option_price_df=pd.DataFrame(np.zeros((N,4)))\n",
    "    option_price=np.zeros(N)\n",
    "    for i,lmda in enumerate(lmda_vec):\n",
    "        for n in range(1,N+1):\n",
    "            v=TrinomialTree(s0,sigma,lmda,r,n,g,T,K)[0]\n",
    "            option_price[n-1]=v[0,0]\n",
    "        option_price_df[i]=option_price\n",
    "\n",
    "    option_price_df.columns=[\"Lambda=%.2f\"%f for f in lmda_vec]\n",
    "    plt.figure()\n",
    "    plt.rcParams.update({'font.size':18})\n",
    "    ax=option_price_df.plot(figsize=(8,8),ylabel=\"Price\",xlabel=\"Number of periods, N\")\n",
    "\n",
    "    ax.axhline(CallBlackScholes(s0,r,sigma,T,K),label=\"BlackScholes\",color=\"black\",lw=2)\n",
    "    ax.legend(fontsize=18)\n",
    "    ax.set_title(\"Plot of European Call Option Prices using trinomial model\")\n",
    "    return ax"
   ]
  },
  {
   "cell_type": "markdown",
   "id": "984f702a",
   "metadata": {},
   "source": [
    "Note the above graph can be somewhat slow to update when using the slider."
   ]
  },
  {
   "cell_type": "markdown",
   "id": "830348eb",
   "metadata": {},
   "source": [
    "The convergence of each model differs significantly from the case when $S_0=K$. This can be broken into 2 cases, when the asset price is greater than the strike, and when the asset price is below the strike.\n",
    "\n",
    "Case $S_0>K$:\n",
    "Here we observe that the initial difference between the black scholes and trinomial prices shrinks as the asset price becomes increasingly large. This is because the asset is more likely to finish in the money, and so the value of the call option approcahes the value of the asset, in particular the initial price of the call approaches the constant $S_0$. Although the convergence may look more oscillatory, when we look at the scale of the axis we see that we are already within one to two decimal place of accuracy.\n",
    "\n",
    "Case $S_0<K$:\n",
    "Again we observer that the initial difference between the trinomial and black scholes model shrinks as the asset prices decreases. This is because the asset is more likely to finish below the strike, and the value of the call tends to 0. We can see this just by looking at the scale of the axis as we decrease $S_0$.\n",
    "\n",
    "When $S_0$ is closer to $K$ it is harder to determine whether or not the option will expire in the money, so when the asset moves up or down this can have a more significant influence on the price of the call."
   ]
  },
  {
   "cell_type": "markdown",
   "id": "07d55f39",
   "metadata": {},
   "source": [
    "Fixing N=500..."
   ]
  },
  {
   "cell_type": "code",
   "execution_count": 8,
   "id": "141be2ef",
   "metadata": {},
   "outputs": [],
   "source": [
    "\n",
    "N=500\n",
    "K=100\n",
    "s0=np.arange(70,140,10)\n",
    "M=len(s0)\n",
    "lmda_vec=[1,1.25,1.5,1.75]\n",
    "sigma=0.2\n",
    "T=1\n",
    "r=0.01\n",
    "g=lambda x,k:np.maximum(x-k,0)\n",
    "\n",
    "option_price_df_s0=pd.DataFrame(np.zeros((M,4))) #table of trinomial values\n",
    "option_price=np.zeros(M)\n",
    "\n",
    "for i,lmda in enumerate(lmda_vec):\n",
    "    #update for lambda\n",
    "    for m in range(0,M):\n",
    "        #update for new value of S0 at each step\n",
    "        v=TrinomialTree(s0[m],sigma,lmda,r,N,g,T,K)[0]\n",
    "        option_price[m]=v[0,0]-CallBlackScholes(s0[m],r,sigma,T,K)\n",
    "    option_price_df_s0[i]=option_price\n",
    "    \n",
    "option_price_df_s0.columns=[\"Lambda=%.2f\"%f for f in lmda_vec]\n",
    "option_price_df_s0.index=[i for i in s0]\n",
    "option_price_df_s0.index.name=\"S0\""
   ]
  },
  {
   "cell_type": "code",
   "execution_count": 9,
   "id": "263099ad",
   "metadata": {},
   "outputs": [
    {
     "data": {
      "text/html": [
       "<div>\n",
       "<style scoped>\n",
       "    .dataframe tbody tr th:only-of-type {\n",
       "        vertical-align: middle;\n",
       "    }\n",
       "\n",
       "    .dataframe tbody tr th {\n",
       "        vertical-align: top;\n",
       "    }\n",
       "\n",
       "    .dataframe thead th {\n",
       "        text-align: right;\n",
       "    }\n",
       "</style>\n",
       "<table border=\"1\" class=\"dataframe\">\n",
       "  <thead>\n",
       "    <tr style=\"text-align: right;\">\n",
       "      <th></th>\n",
       "      <th>Lambda=1.00</th>\n",
       "      <th>Lambda=1.25</th>\n",
       "      <th>Lambda=1.50</th>\n",
       "      <th>Lambda=1.75</th>\n",
       "    </tr>\n",
       "    <tr>\n",
       "      <th>S0</th>\n",
       "      <th></th>\n",
       "      <th></th>\n",
       "      <th></th>\n",
       "      <th></th>\n",
       "    </tr>\n",
       "  </thead>\n",
       "  <tbody>\n",
       "    <tr>\n",
       "      <th>70</th>\n",
       "      <td>-0.001211</td>\n",
       "      <td>-0.000595</td>\n",
       "      <td>0.000036</td>\n",
       "      <td>0.000038</td>\n",
       "    </tr>\n",
       "    <tr>\n",
       "      <th>80</th>\n",
       "      <td>0.001067</td>\n",
       "      <td>-0.000974</td>\n",
       "      <td>0.000506</td>\n",
       "      <td>0.000257</td>\n",
       "    </tr>\n",
       "    <tr>\n",
       "      <th>90</th>\n",
       "      <td>-0.001083</td>\n",
       "      <td>0.001322</td>\n",
       "      <td>-0.000349</td>\n",
       "      <td>0.000592</td>\n",
       "    </tr>\n",
       "    <tr>\n",
       "      <th>100</th>\n",
       "      <td>-0.003972</td>\n",
       "      <td>-0.001136</td>\n",
       "      <td>-0.002492</td>\n",
       "      <td>-0.004095</td>\n",
       "    </tr>\n",
       "    <tr>\n",
       "      <th>110</th>\n",
       "      <td>0.002474</td>\n",
       "      <td>0.001615</td>\n",
       "      <td>-0.000864</td>\n",
       "      <td>-0.001966</td>\n",
       "    </tr>\n",
       "    <tr>\n",
       "      <th>120</th>\n",
       "      <td>-0.000100</td>\n",
       "      <td>0.000526</td>\n",
       "      <td>0.000999</td>\n",
       "      <td>0.001022</td>\n",
       "    </tr>\n",
       "    <tr>\n",
       "      <th>130</th>\n",
       "      <td>0.000462</td>\n",
       "      <td>0.000182</td>\n",
       "      <td>0.000497</td>\n",
       "      <td>0.000189</td>\n",
       "    </tr>\n",
       "  </tbody>\n",
       "</table>\n",
       "</div>"
      ],
      "text/plain": [
       "     Lambda=1.00  Lambda=1.25  Lambda=1.50  Lambda=1.75\n",
       "S0                                                     \n",
       "70     -0.001211    -0.000595     0.000036     0.000038\n",
       "80      0.001067    -0.000974     0.000506     0.000257\n",
       "90     -0.001083     0.001322    -0.000349     0.000592\n",
       "100    -0.003972    -0.001136    -0.002492    -0.004095\n",
       "110     0.002474     0.001615    -0.000864    -0.001966\n",
       "120    -0.000100     0.000526     0.000999     0.001022\n",
       "130     0.000462     0.000182     0.000497     0.000189"
      ]
     },
     "execution_count": 9,
     "metadata": {},
     "output_type": "execute_result"
    }
   ],
   "source": [
    "option_price_df_s0"
   ]
  },
  {
   "cell_type": "code",
   "execution_count": 10,
   "id": "c49a4c11",
   "metadata": {},
   "outputs": [
    {
     "data": {
      "text/plain": [
       "Lambda=1.00    0.001481\n",
       "Lambda=1.25    0.000907\n",
       "Lambda=1.50    0.000821\n",
       "Lambda=1.75    0.001166\n",
       "dtype: float64"
      ]
     },
     "execution_count": 10,
     "metadata": {},
     "output_type": "execute_result"
    }
   ],
   "source": [
    "np.sqrt((option_price_df_s0**2)).mean(axis=0)"
   ]
  },
  {
   "cell_type": "markdown",
   "id": "71d05d0d",
   "metadata": {},
   "source": [
    "In most cases, except when the initial asset price equals the strike, we already have 2 decimal places of accuracy, which is typically all we require when working in pounds. Generally the values of lambda that provide the smallest error are either 1.25 or 1.50. This is also generally consistent with what we see in the plots. In general by using N=500 steps we are approximating the black scholes price of the call option quite well, since we have $T=1$ year, we are essentially allowing the asset to move twice every trading day. This seems to be a sufficiently fine lattice for approximating continuous time."
   ]
  },
  {
   "cell_type": "markdown",
   "id": "1fe86322",
   "metadata": {},
   "source": [
    "On average $\\lambda=1.50$ offers the lowest error when compared with Black Scholes prices"
   ]
  },
  {
   "cell_type": "markdown",
   "id": "3bea61cc",
   "metadata": {},
   "source": [
    "Choose $\\lambda=1.5$"
   ]
  },
  {
   "cell_type": "markdown",
   "id": "e64178ff",
   "metadata": {},
   "source": [
    "# Q1 (b)\n",
    "## American Option"
   ]
  },
  {
   "cell_type": "code",
   "execution_count": 11,
   "id": "7579c53f",
   "metadata": {},
   "outputs": [],
   "source": [
    "\n",
    "def AmericanTrinomialTree(s0,sigma,lmda,r,N,payoff,T,K):\n",
    "    #Create an empty array to store the stock price at each node\n",
    "    #note since u=1/d this is a recombining tree\n",
    "    delta_t=T/N\n",
    "    \n",
    "    #set up parameters\n",
    "    u=np.exp(lmda*sigma*np.sqrt(delta_t))\n",
    "    d=1/u\n",
    "    qu=1/(2*lmda**2)+((r-sigma**2/2)*np.sqrt(delta_t))/(2*lmda*sigma)\n",
    "    qm=1-1/lmda**2\n",
    "    qd=1/(2*lmda**2)-((r-sigma**2/2)*np.sqrt(delta_t))/(2*lmda*sigma)\n",
    "    \n",
    "    S=np.zeros((2*N+1,N+1))\n",
    "    V=np.zeros((2*N+1,N+1))\n",
    "\n",
    "    #set up S[k,n]=s0*u^(n-k) = s0*u^n*d^k for 0<=k<=2n\n",
    "    for t in range(N+1):\n",
    "        S[0:2*t+1,t]=(s0*u**t)*(d**(np.arange(0,2*t+1)))\n",
    "\n",
    "    #apply payoff\n",
    "    V[:,N]=payoff(S[:,N],K)\n",
    "\n",
    "    #Loop backwards in time\n",
    "    for t in reversed(range(N)):\n",
    "        V[0:2*t+1,t]=np.maximum(payoff(S[0:2*t+1,t],K),(qu*V[0:2*t+1,t+1]+qm*V[1:2*t+2,t+1]+qd*V[2:2*t+3,t+1])*np.exp(-r*delta_t))\n",
    "\n",
    "    return V, S #return tree of both stock and asset price\n"
   ]
  },
  {
   "cell_type": "code",
   "execution_count": 12,
   "id": "550b180f",
   "metadata": {},
   "outputs": [],
   "source": [
    "N=500\n",
    "s0=np.arange(70,131,1)\n",
    "K=100\n",
    "lmda=1.5\n",
    "sigma=0.2\n",
    "T=1\n",
    "r=0.01\n",
    "M=len(s0)\n",
    "g=lambda x,k:np.maximum(x-k,0)\n",
    "\n",
    "american_call=np.zeros((M,2))\n",
    "\n",
    "for i,s in enumerate(s0):\n",
    "    V=AmericanTrinomialTree(s,sigma,lmda,r,N,g,T,K)[0]\n",
    "    american_call[i,0]=V[0,0] #time-zero value of option\n",
    "    american_call[i,1]=g(s,K) #intrinsic value of option\n",
    "    \n",
    "american_df=pd.DataFrame(american_call,columns=[\"Call_Value\",\"Intrinsic_Value\"])\n",
    "american_df.index=s0"
   ]
  },
  {
   "cell_type": "code",
   "execution_count": 63,
   "id": "46b962e3",
   "metadata": {},
   "outputs": [
    {
     "data": {
      "text/plain": [
       "Text(0.5, 1.0, 'American Call Option Price vs Intrinsic Value')"
      ]
     },
     "execution_count": 63,
     "metadata": {},
     "output_type": "execute_result"
    },
    {
     "data": {
      "text/plain": [
       "<Figure size 432x288 with 0 Axes>"
      ]
     },
     "metadata": {},
     "output_type": "display_data"
    },
    {
     "data": {
      "image/png": "[encoded data removed]",
      "text/plain": [
       "<Figure size 576x576 with 1 Axes>"
      ]
     },
     "metadata": {
      "needs_background": "light"
     },
     "output_type": "display_data"
    }
   ],
   "source": [
    "plt.figure()\n",
    "plt.rcParams.update({'font.size':16})\n",
    "american_df.plot(xlabel=\"S0\",ylabel=\"Price\",figsize=(8,8))\n",
    "plt.legend(fontsize=18)\n",
    "plt.title(\"American Call Option Price vs Intrinsic Value\")"
   ]
  },
  {
   "cell_type": "markdown",
   "id": "d9a60a91",
   "metadata": {},
   "source": [
    "Based on this graph, since the continuation value, the call value, is always above the intrinsic value then it is never optimal to exercise early at time 0. This is what we would expect to observe as it is tpyically never optimal to exercise an american call option early."
   ]
  },
  {
   "cell_type": "code",
   "execution_count": 29,
   "id": "fd0d69c1",
   "metadata": {},
   "outputs": [],
   "source": [
    "put_payoff=lambda x,k:np.maximum(k-x,0)\n",
    "N=500\n",
    "s0=np.arange(70,131,1)\n",
    "K=100\n",
    "lmda=1.5\n",
    "sigma=0.2\n",
    "T=1\n",
    "r=0.01\n",
    "M=len(s0)\n",
    "\n",
    "american_put=np.zeros((M,2))\n",
    "\n",
    "for i,s in enumerate(s0):\n",
    "    V=AmericanTrinomialTree(s,sigma,lmda,r,N,put_payoff,T,K)[0]\n",
    "    american_put[i,0]=V[0,0] #time-zero value of option\n",
    "    american_put[i,1]=put_payoff(s,K) #intrinsic value of option\n",
    "    \n",
    "american_put_df=pd.DataFrame(american_put,columns=[\"Put_Value\",\"Intrinsic_Value\"])\n",
    "american_put_df.index=s0"
   ]
  },
  {
   "cell_type": "code",
   "execution_count": 64,
   "id": "687e5fec",
   "metadata": {},
   "outputs": [
    {
     "data": {
      "text/plain": [
       "Text(0.5, 1.0, 'American Put Option Price vs Intrinsic Value')"
      ]
     },
     "execution_count": 64,
     "metadata": {},
     "output_type": "execute_result"
    },
    {
     "data": {
      "text/plain": [
       "<Figure size 432x288 with 0 Axes>"
      ]
     },
     "metadata": {},
     "output_type": "display_data"
    },
    {
     "data": {
      "image/png": "[encoded data removed]",
      "text/plain": [
       "<Figure size 576x576 with 1 Axes>"
      ]
     },
     "metadata": {
      "needs_background": "light"
     },
     "output_type": "display_data"
    }
   ],
   "source": [
    "plt.figure()\n",
    "plt.rcParams.update({'font.size':16})\n",
    "\n",
    "american_put_df.plot(xlabel=\"S0\",ylabel=\"Price\",figsize=(8,8))\n",
    "plt.legend(fontsize=18)\n",
    "plt.title(\"American Put Option Price vs Intrinsic Value\")"
   ]
  },
  {
   "cell_type": "code",
   "execution_count": 39,
   "id": "51c7d05a",
   "metadata": {},
   "outputs": [
    {
     "data": {
      "text/plain": [
       "Put_Value          30.0\n",
       "Intrinsic_Value    30.0\n",
       "Name: 70, dtype: float64"
      ]
     },
     "execution_count": 39,
     "metadata": {},
     "output_type": "execute_result"
    }
   ],
   "source": [
    "american_put_df.loc[70]"
   ]
  },
  {
   "cell_type": "markdown",
   "id": "9fc65812",
   "metadata": {},
   "source": [
    "It may be optimal to exercise early when the initial asset price is at or close to 0, if the underlying prices reaches 0 it will never recover, in that case the payoff essentially becomes the constant strike price $K$. Clearly it is not optimal to exercise early when the asset price is above the strike, this can also be seen in the graph by the fact that the intrinsic value sits below put value, in other the continuation value is higher. But when is closer to 70 and lower, it becomes optimal to exercise early. It should be noted that this is not a graph of the continuation value but the put value, which will be the maximum between the intrinsic value and continuation value. So when the 2 lines cross over it here it becomes optimal to exercise early. \n",
    "\n",
    "When the option begins deep in the money it may be optimal to exercise early, though such an options price will approach the intrinsic value anyway, in a real world scenario invloving transaction costs and bid-ask spreads it may not be optimal to immediately exercise"
   ]
  },
  {
   "cell_type": "markdown",
   "id": "d37a9f12",
   "metadata": {},
   "source": [
    "Varying volatility $\\sigma$..."
   ]
  },
  {
   "cell_type": "code",
   "execution_count": 68,
   "id": "c870c320",
   "metadata": {},
   "outputs": [
    {
     "data": {
      "application/vnd.jupyter.widget-view+json": {
       "model_id": "018fb8d324b84ab28680afe437308c64",
       "version_major": 2,
       "version_minor": 0
      },
      "text/plain": [
       "interactive(children=(FloatSlider(value=0.2, description='sigma', max=0.8, min=0.1), Output()), _dom_classes=(…"
      ]
     },
     "metadata": {},
     "output_type": "display_data"
    }
   ],
   "source": [
    "@interact(sigma=(0.1,0.8,0.1))\n",
    "def sigmaplots(sigma=0.2):\n",
    "    put_payoff=lambda x,k:np.maximum(k-x,0)\n",
    "    N=500\n",
    "    s0=np.arange(70,131,1)\n",
    "    K=100\n",
    "    lmda=1.5\n",
    "    T=1\n",
    "    r=0.01\n",
    "    M=len(s0)\n",
    "\n",
    "    american_put=np.zeros((M,2))\n",
    "\n",
    "    for i,s in enumerate(s0):\n",
    "        V=AmericanTrinomialTree(s,sigma,lmda,r,N,put_payoff,T,K)[0]\n",
    "        american_put[i,0]=V[0,0] #time-zero value of option\n",
    "        american_put[i,1]=put_payoff(s,K) #intrinsic value of option\n",
    "\n",
    "    american_put_df=pd.DataFrame(american_put,columns=[\"Put_Value\",\"Intrinsic_Value\"])\n",
    "    american_put_df.index=s0\n",
    "    plt.figure()\n",
    "    plt.rcParams.update({'font.size':20})\n",
    "    american_put_df.plot(xlabel=\"S0\",ylabel=\"Price\",figsize=(8,8))\n",
    "    plt.legend(fontsize=20)\n",
    "    plt.title(\"American Put Option vs Intrinsic Value $\\sigma=%.2f$\"%sigma)\n",
    "    "
   ]
  },
  {
   "cell_type": "markdown",
   "id": "63568b8c",
   "metadata": {},
   "source": [
    "As the volatility increases the value of the american put increases above the intrinsic value. This is because the greater the volatility the more likely it is at any point for the asset price to drop below the strike, or reach the optimal exercise boundary. So at each discrete time point the continuation value is higher as there is greater potential for it to change and fall further below the strike the longer we wait.\n",
    "\n",
    "When the volatility decreases we see that the price gets closer to the intrinsic value. By decreasing the volatility the asset will deviate less from its initial value throughout the options life, and so more closely resembles the intrinsic value. As $\\sigma$ gets closer and closer to 0 the asset essentially becomes constant so the value of the american put option becomes the intrinsic value.\n"
   ]
  },
  {
   "cell_type": "code",
   "execution_count": 69,
   "id": "9109a92c",
   "metadata": {},
   "outputs": [
    {
     "data": {
      "application/vnd.jupyter.widget-view+json": {
       "model_id": "ce6c7e1de9d54d5b8faf5db0ed510791",
       "version_major": 2,
       "version_minor": 0
      },
      "text/plain": [
       "interactive(children=(FloatSlider(value=0.01, description='r', max=0.1, min=0.01, step=0.01), Output()), _dom_…"
      ]
     },
     "metadata": {},
     "output_type": "display_data"
    }
   ],
   "source": [
    "@interact(r=(0.01,0.1,0.01))\n",
    "def sigmaplots(r=0.01):\n",
    "    put_payoff=lambda x,k:np.maximum(k-x,0)\n",
    "    N=500\n",
    "    s0=np.arange(70,131,1)\n",
    "    K=100\n",
    "    lmda=1.5\n",
    "    sigma=0.2\n",
    "    T=1\n",
    "    M=len(s0)\n",
    "\n",
    "    american_put=np.zeros((M,2))\n",
    "\n",
    "    for i,s in enumerate(s0):\n",
    "        V=AmericanTrinomialTree(s,sigma,lmda,r,N,put_payoff,T,K)[0]\n",
    "        american_put[i,0]=V[0,0] #time-zero value of option\n",
    "        american_put[i,1]=put_payoff(s,K) #intrinsic value of option\n",
    "\n",
    "    american_put_df=pd.DataFrame(american_put,columns=[\"Put_Value\",\"Intrinsic_Value\"])\n",
    "    \n",
    "    american_put_df.index=s0\n",
    "    plt.figure()\n",
    "    plt.rcParams.update({'font.size':20})\n",
    "    american_put_df.plot(xlabel=\"S0\",ylabel=\"Price\",figsize=(8,8))\n",
    "    plt.legend(fontsize=20)\n",
    "    plt.title(\"American Put Option vs Intrinsic Value $r=%.2f$\"%r)"
   ]
  },
  {
   "cell_type": "markdown",
   "id": "f4275833",
   "metadata": {},
   "source": [
    "By increasing the interest rate $r$ the value of the american put decreases and becomes closer to the intrinsic value, particularly when it starts in the money. This is because by increasing the interest rate, we discount the future values at a higher rate, so they have a much smaller present value. In other words with higher interest rates the sooner we can exercise the better to avoid the decaying value over time."
   ]
  },
  {
   "cell_type": "markdown",
   "id": "4a8f227c",
   "metadata": {},
   "source": [
    "# Q1 (c)\n",
    "## Lookback option"
   ]
  },
  {
   "cell_type": "code",
   "execution_count": 70,
   "id": "80a99fd5",
   "metadata": {},
   "outputs": [],
   "source": [
    "\n",
    "def Lookback_option(s0,sigma,r,N,T,lmda,american=False):\n",
    "\n",
    "    delta_t=T/N\n",
    "\n",
    "    #set up parameters\n",
    "    u=np.exp(lmda*sigma*np.sqrt(delta_t))\n",
    "    d=1/u\n",
    "    qu=1/(2*lmda**2)+((r-sigma**2/2)*np.sqrt(delta_t))/(2*lmda*sigma)\n",
    "    qm=1-1/lmda**2\n",
    "    qd=1/(2*lmda**2)-((r-sigma**2/2)*np.sqrt(delta_t))/(2*lmda*sigma)\n",
    "\n",
    "\n",
    "    S=np.zeros((2*N+1,N+1))\n",
    "    V=np.zeros((N+1,N+1,2*N+1)) #N+1 arrays of size 2*Nx2*N\n",
    "\n",
    "    #set up S[k,n]=s0*u^(n-k) = s0*u^n*d^k for 0<=k<=2n\n",
    "    for t in range(N+1):\n",
    "        S[0:2*t+1,t]=(s0*u**t)*(d**(np.arange(0,2*t+1)))\n",
    "\n",
    "    #Set up grid for auxillary function m_j^n\n",
    "    M=np.zeros((N+1,N+1))\n",
    "    for t in range(0,N+1):\n",
    "        M[0:t+1,t]=s0*u**np.arange(t,-1,-1)\n",
    "\n",
    "    #apply payoff\n",
    "    #note the index is reversed from the lecture notes\n",
    "    for k in range(0,2*N+1):\n",
    "        jmax=min(k,N)\n",
    "        for j in range(0,jmax+1):\n",
    "            V[N,j,k]=M[j,N]-S[k,N]\n",
    "\n",
    "\n",
    "    phi=lambda k,j:min(k,j+1) #shooting function\n",
    "\n",
    "    # now iterate back through the tree\n",
    "\n",
    "    for n in reversed(range(0,N)):\n",
    "\n",
    "        for k in range(2*n+1):\n",
    "            jmax=min(k,n)\n",
    "            for j in range(0,jmax+1):\n",
    "                if(american==True):\n",
    "                    V[n,j,k]=np.maximum(M[j,n]-S[k,n],np.exp(-r*delta_t)*(qu*V[n+1,phi(k,j),k]+qm*V[n+1,phi(k+1,j),k+1]+qd*V[n+1,phi(k+2,j),k+2]))\n",
    "                else:\n",
    "                    V[n,j,k]=np.exp(-r*delta_t)*(qu*V[n+1,phi(k,j),k]+qm*V[n+1,phi(k+1,j),k+1]+qd*V[n+1,phi(k+2,j),k+2])\n",
    "    return V"
   ]
  },
  {
   "cell_type": "code",
   "execution_count": 19,
   "id": "6fa04226",
   "metadata": {},
   "outputs": [],
   "source": [
    "N=2\n",
    "s0=100\n",
    "lmda=1.5\n",
    "sigma=0.2\n",
    "T=1\n",
    "r=0.01\n",
    "\n",
    "V_am,S,M=Lookback_option(s0,sigma,r,N,T,lmda,True)\n",
    "V_euro=Lookback_option(s0,sigma,r,N,T,lmda,False)"
   ]
  },
  {
   "cell_type": "code",
   "execution_count": 71,
   "id": "b9ede2ab",
   "metadata": {},
   "outputs": [],
   "source": [
    "N_vec=100*np.arange(1,6)\n",
    "american_lookback=np.zeros(5)\n",
    "euro_lookback=np.zeros(5)\n",
    "times=np.zeros((5,2))\n",
    "s0=100\n",
    "lmda=1.5\n",
    "sigma=0.2\n",
    "T=1\n",
    "r=0.01\n",
    "for i,N in enumerate(N_vec):\n",
    "    #time the european lookback\n",
    "    t0=time.time()\n",
    "    euro_lookback[i]=Lookback_option(s0,sigma,r,N,T,lmda)[0,0,0]\n",
    "    dt=time.time()-t0\n",
    "    times[i,0]=dt\n",
    "    \n",
    "    #time the american lookback\n",
    "    t0=time.time()\n",
    "    american_lookback[i]=Lookback_option(s0,sigma,r,N,T,lmda,True)[0,0,0]\n",
    "    dt=time.time()-t0\n",
    "    times[i,1]=dt\n",
    "    \n",
    "lookback_df=pd.DataFrame([euro_lookback,times[:,0],american_lookback,times[:,1]],\n",
    "                         columns=[\"N=%i\"%i for i in N_vec], index=[\"European Option\",\"European time\",\"American Option\",\"American Time\"]\n",
    "                        )"
   ]
  },
  {
   "cell_type": "code",
   "execution_count": 72,
   "id": "b6e9e711",
   "metadata": {},
   "outputs": [
    {
     "data": {
      "text/html": [
       "<div>\n",
       "<style scoped>\n",
       "    .dataframe tbody tr th:only-of-type {\n",
       "        vertical-align: middle;\n",
       "    }\n",
       "\n",
       "    .dataframe tbody tr th {\n",
       "        vertical-align: top;\n",
       "    }\n",
       "\n",
       "    .dataframe thead th {\n",
       "        text-align: right;\n",
       "    }\n",
       "</style>\n",
       "<table border=\"1\" class=\"dataframe\">\n",
       "  <thead>\n",
       "    <tr style=\"text-align: right;\">\n",
       "      <th></th>\n",
       "      <th>N=100</th>\n",
       "      <th>N=200</th>\n",
       "      <th>N=300</th>\n",
       "      <th>N=400</th>\n",
       "      <th>N=500</th>\n",
       "    </tr>\n",
       "  </thead>\n",
       "  <tbody>\n",
       "    <tr>\n",
       "      <th>European Option</th>\n",
       "      <td>14.750883</td>\n",
       "      <td>15.218390</td>\n",
       "      <td>15.430247</td>\n",
       "      <td>15.557935</td>\n",
       "      <td>15.645676</td>\n",
       "    </tr>\n",
       "    <tr>\n",
       "      <th>European time</th>\n",
       "      <td>1.732842</td>\n",
       "      <td>12.977005</td>\n",
       "      <td>44.526385</td>\n",
       "      <td>106.493496</td>\n",
       "      <td>205.873548</td>\n",
       "    </tr>\n",
       "    <tr>\n",
       "      <th>American Option</th>\n",
       "      <td>14.883068</td>\n",
       "      <td>15.350834</td>\n",
       "      <td>15.562853</td>\n",
       "      <td>15.690664</td>\n",
       "      <td>15.778485</td>\n",
       "    </tr>\n",
       "    <tr>\n",
       "      <th>American Time</th>\n",
       "      <td>2.853724</td>\n",
       "      <td>22.942637</td>\n",
       "      <td>77.719289</td>\n",
       "      <td>183.752525</td>\n",
       "      <td>398.034645</td>\n",
       "    </tr>\n",
       "  </tbody>\n",
       "</table>\n",
       "</div>"
      ],
      "text/plain": [
       "                     N=100      N=200      N=300       N=400       N=500\n",
       "European Option  14.750883  15.218390  15.430247   15.557935   15.645676\n",
       "European time     1.732842  12.977005  44.526385  106.493496  205.873548\n",
       "American Option  14.883068  15.350834  15.562853   15.690664   15.778485\n",
       "American Time     2.853724  22.942637  77.719289  183.752525  398.034645"
      ]
     },
     "execution_count": 72,
     "metadata": {},
     "output_type": "execute_result"
    }
   ],
   "source": [
    "lookback_df"
   ]
  },
  {
   "cell_type": "code",
   "execution_count": 22,
   "id": "df3c9244",
   "metadata": {},
   "outputs": [],
   "source": [
    "#caluclate computation times empirically\n",
    "\n",
    "N_vec=np.arange(20,320,20)\n",
    "time_vec=np.zeros(len(N_vec))\n",
    "\n",
    "for i,N in enumerate(N_vec):\n",
    "    t0=time.time()\n",
    "    Lookback_option(s0,sigma,r,N,T,lmda)\n",
    "    dt=time.time()-t0\n",
    "    time_vec[i]=dt"
   ]
  },
  {
   "cell_type": "code",
   "execution_count": 55,
   "id": "42062dd5",
   "metadata": {
    "scrolled": true
   },
   "outputs": [
    {
     "data": {
      "text/plain": [
       "Text(0.5, 1.0, 'Plot of computation time against number of periods (Log-Log-Scale)')"
      ]
     },
     "execution_count": 55,
     "metadata": {},
     "output_type": "execute_result"
    },
    {
     "data": {
      "image/png": "[encoded data removed]",
      "text/plain": [
       "<Figure size 576x576 with 1 Axes>"
      ]
     },
     "metadata": {
      "needs_background": "light"
     },
     "output_type": "display_data"
    }
   ],
   "source": [
    "plt.figure(figsize=(8,8))\n",
    "plt.rcParams.update({'font.size':18})\n",
    "plt.loglog(N_vec,time_vec,label=\"Empirical\")\n",
    "plt.loglog(N_vec,N_vec**3,label=\"$N^3$\")\n",
    "plt.legend(fontsize=18)\n",
    "plt.xlabel(\"Number of periods $N$\")\n",
    "plt.ylabel(\"Computation time\")\n",
    "plt.title(\"Plot of computation time against number of periods (Log-Log-Scale)\")"
   ]
  },
  {
   "cell_type": "markdown",
   "id": "c54ba780",
   "metadata": {},
   "source": [
    "Since this is a path dependent option how fine our lattice or grid is has a significant impact on the accuracy of prices. This is because between any two discretised points of the asset trajectory the asset can take on values that won't be captured. Small movements like these can change the historical maximum of the stock, particularly if we are quite close to the maximum already. To this end since we are working over the time frame of 1 year, within a single day it is entirely possible for the asset to reach a new maximum at some point and fall below the previous maximum again by the end of the day. Depending on the number of points we observe the number of grid points corresponding to a single day we could easily miss these changes, leading to slight inaccuracies.\n",
    "\n",
    "In order to obtain reliable prices it is likely necessary to use $N$ close to 1000, which would correspond to just under 4 points a day (for 252 trading days in 1 year). However at 500 points the computation is already quite slow. We can see from the plot of the computation times that it scales similarly to a rate of $O(N^3)$. In this sense the computation time scales far too quickly with the number of periods"
   ]
  },
  {
   "cell_type": "code",
   "execution_count": 24,
   "id": "189544c9",
   "metadata": {},
   "outputs": [],
   "source": [
    "def FloatLookBackPut(s0,r,sigma,T):\n",
    "    #x*=x\n",
    "    #x=s0\n",
    "    d1=1/(sigma*np.sqrt(T))*(np.log(1)+(r+1/2*sigma**2)*T)\n",
    "    d2=1/(sigma*np.sqrt(T))*(np.log(1)+(r-1/2*sigma**2)*T)\n",
    "    \n",
    "    return (1+sigma**2/(2*r))*s0*stats.norm.cdf(d1)+np.exp(-r*T)*s0*stats.norm.cdf(-d2)-sigma**2/(2*r)*np.exp(-r*T)*s0*stats.norm.cdf(-d2)-s0"
   ]
  },
  {
   "cell_type": "code",
   "execution_count": 25,
   "id": "ae8bfa3b",
   "metadata": {},
   "outputs": [
    {
     "data": {
      "text/plain": [
       "16.408774883070578"
      ]
     },
     "execution_count": 25,
     "metadata": {},
     "output_type": "execute_result"
    }
   ],
   "source": [
    "FloatLookBackPut(100,0.01,0.2,1)"
   ]
  },
  {
   "cell_type": "code",
   "execution_count": 74,
   "id": "4929e6bc",
   "metadata": {},
   "outputs": [
    {
     "data": {
      "text/plain": [
       "15.645675542228636"
      ]
     },
     "execution_count": 74,
     "metadata": {},
     "output_type": "execute_result"
    }
   ],
   "source": [
    "Lookback_option(100,0.2,0.01,500,1,1.5)[0][0,0]"
   ]
  }
 ],
 "metadata": {
  "kernelspec": {
   "display_name": "Python 3 (ipykernel)",
   "language": "python",
   "name": "python3"
  },
  "language_info": {
   "codemirror_mode": {
    "name": "ipython",
    "version": 3
   },
   "file_extension": ".py",
   "mimetype": "text/x-python",
   "name": "python",
   "nbconvert_exporter": "python",
   "pygments_lexer": "ipython3",
   "version": "3.9.12"
  }
 },
 "nbformat": 4,
 "nbformat_minor": 5
}
